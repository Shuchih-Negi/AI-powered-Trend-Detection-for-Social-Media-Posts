{
  "nbformat": 4,
  "nbformat_minor": 0,
  "metadata": {
    "colab": {
      "provenance": []
    },
    "kernelspec": {
      "name": "python3",
      "display_name": "Python 3"
    },
    "language_info": {
      "name": "python"
    }
  },
  "cells": [
    {
      "cell_type": "markdown",
      "source": [],
      "metadata": {
        "id": "ceYWPTyC8pis"
      }
    },
    {
      "cell_type": "markdown",
      "source": [
        "Import Libraries"
      ],
      "metadata": {
        "id": "QWrSYCDb8tHP"
      }
    },
    {
      "cell_type": "code",
      "source": [
        "import requests\n",
        "import json\n",
        "from google.generativeai import GenerativeModel, configure"
      ],
      "metadata": {
        "id": "cuSS2WxB8wbV"
      },
      "execution_count": null,
      "outputs": []
    },
    {
      "cell_type": "markdown",
      "source": [
        "Firecrawl API Setup"
      ],
      "metadata": {
        "id": "v87Knv8R8z2Y"
      }
    },
    {
      "cell_type": "code",
      "source": [
        "FIRECRAWL_API_KEY = 'Your_Firecrawl_API_Code",
        "target_url = 'https://techcrunch.com/'\n",
        "\n",
        "firecrawl_endpoint = 'https://api.firecrawl.dev/v1/scrape'\n",
        "firecrawl_payload = {\n",
        "    \"url\": target_url,\n",
        "    \"formats\": [\"markdown\"],   # Get markdown for clean content\n",
        "    \"onlyMainContent\": True    # Optional: Skip headers/footers\n",
        "}\n",
        "\n",
        "headers = {\n",
        "    \"Content-Type\": \"application/json\",\n",
        "    \"Authorization\": f\"Bearer {FIRECRAWL_API_KEY}\"\n",
        "}"
      ],
      "metadata": {
        "id": "kkwL8LRi83jH"
      },
      "execution_count": null,
      "outputs": []
    },
    {
      "cell_type": "code",
      "source": [
        "#Fetch website content\n",
        "response = requests.post(firecrawl_endpoint, headers=headers, data=json.dumps(firecrawl_payload))\n",
        "\n",
        "if response.status_code == 200:\n",
        "    scraped_data = response.json()\n",
        "    content = scraped_data.get(\"data\", {}).get(\"markdown\", \"\")\n",
        "    print(\"Firecrawl Scrape Successful! Showing part of the content:\\n\")\n",
        "    print(content[:500])  # print first 500 chars\n",
        "else:\n",
        "    print(\"Firecrawl Error:\", response.text)\n",
        "    content = None"
      ],
      "metadata": {
        "colab": {
          "base_uri": "https://localhost:8080/"
        },
        "id": "2Ujixi2-88qt",
        "outputId": "116ac2e3-4769-4452-ff31-6af058d12ed1"
      },
      "execution_count": null,
      "outputs": [
        {
          "output_type": "stream",
          "name": "stdout",
          "text": [
            "Firecrawl Scrape Successful! Showing part of the content:\n",
            "\n",
            "[Skip to content](https://techcrunch.com/#wp--skip-link--target)\n",
            "\n",
            "[![logo](https://techcrunch.com/wp-content/uploads/2024/10/desktop-logo.svg)](https://techcrunch.com/)\n",
            "\n",
            "![Open AI Chief Executive Officer Sam Altman speaks during the Kakao media day in Seoul.](https://techcrunch.com/wp-content/uploads/2025/02/GettyImages-2197181602.jpg)\n",
            "\n",
            "[AI](https://techcrunch.com/category/artificial-intelligence/)\n",
            "\n",
            "### [OpenAI releases o3-pro, a souped-up version of its o3 AI reasoning model](https://techcrunch\n"
          ]
        }
      ]
    },
    {
      "cell_type": "markdown",
      "source": [
        "Gemini Setup"
      ],
      "metadata": {
        "id": "bAM3nXJw9YgL"
      }
    },
    {
      "cell_type": "code",
      "source": [
        "if content:\n",
        "    configure(api_key=\"Your_Gemini_API_Code")\n",
        "    model = GenerativeModel(\"gemini-1.5-flash\")\n",
        "\n",
        "    prompt = f\"\"\"\n",
        "    Analyze the following website content and summarize the top 3 emerging technology trends or topics being discussed:\n",
        "\n",
        "    {content[:10000]}  # Limiting to 10000 chars for prompt size\n",
        "    \"\"\"\n",
        "\n",
        "    gemini_response = model.generate_content(prompt)\n",
        "    print(\"\\n🔍 Detected Technology Trends:\\n\")\n",
        "    print(gemini_response.text)\n",
        "else:\n",
        "    print(\"No content to summarize.\")"
      ],
      "metadata": {
        "colab": {
          "base_uri": "https://localhost:8080/",
          "height": 228
        },
        "id": "2c7Hx6Ms9b3P",
        "outputId": "af554e9d-50a2-43ce-a871-b84535c80cbf"
      },
      "execution_count": null,
      "outputs": [
        {
          "output_type": "stream",
          "name": "stdout",
          "text": [
            "\n",
            "🔍 Detected Technology Trends:\n",
            "\n",
            "Based on the provided TechCrunch content, the top 3 emerging technology trends are:\n",
            "\n",
            "1. **Advancements in AI:**  Multiple articles highlight significant developments in artificial intelligence. This includes the release of new AI reasoning models (OpenAI's o3-pro and Mistral's new models), AI-powered features in Google Photos, and discussions surrounding Apple's AI model (\"Apple Intelligence\").  The prevalence of AI-related news points to its continued rapid evolution and integration into various applications.\n",
            "\n",
            "2. **Robotics and Autonomous Systems:**  The substantial funding secured by Bedrock Ocean for seafloor mapping using robots, coupled with the planned London robotaxi launch by Wayve and Uber, showcases the growing investment and progress in robotics and autonomous vehicle technology. This trend demonstrates the expansion of robotics beyond industrial applications into new sectors like ocean exploration and transportation.\n",
            "\n",
            "3. **Cybersecurity Threats and their Impact:** The cyberattack on UNFI, a primary distributor for Whole Foods, resulting in product shortages, highlights the increasing vulnerability of supply chains and the significant real-world consequences of successful cyberattacks.  This underscores the growing importance of cybersecurity in all sectors and the need for robust defenses against evolving threats.\n",
            "\n"
          ]
        }
      ]
    }
  ]
}
